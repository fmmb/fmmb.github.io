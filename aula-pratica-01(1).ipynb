{
 "cells": [
  {
   "cell_type": "markdown",
   "metadata": {},
   "source": [
    "# Aula prática 1 - Funções e Parâmetros"
   ]
  },
  {
   "cell_type": "markdown",
   "metadata": {},
   "source": [
    "O objetivo desta aula é experimentar a definição de funções simples. Após a realização da prática, deverá ter sido adquirida uma noção básica dos seguintes conceitos e elementos:\n",
    "\n",
    "* Função\n",
    "* Parâmetro(s)\n",
    "* Argumento(s)\n",
    "* Tipo de dados primitivos: __int__, **float** e **bool**\n",
    "* Instrução de devolução: `return`\n",
    "* Operadores aritméticos: `+`, `-` , `*`, `/`, `//`, `%`, `**`\n",
    "* Operadores de conversão entre tipos de dados numéricos: `int()`, `float()`\n",
    "* Operadores relacionais: `==` (igual), `!=` (diferente), `<`, `>`, `<=`, `>=`\n",
    "* Operadores lógicos: `not` (negação), `and` (conjunção), `or` (disjunção)"
   ]
  },
  {
   "cell_type": "markdown",
   "metadata": {},
   "source": [
    "## Exercícios"
   ]
  },
  {
   "cell_type": "markdown",
   "metadata": {},
   "source": [
    "Desenvolva uma função para cada um dos objectivos apresentados nas perguntas seguintes. Todas as funções podem ser definidas apenas com a instrução de retorno (`return ...`). Para cada função escreva expressões para as testar, utilizando *argumentos* para abranger as diferentes possibilidades de resultados (p.e. verdadeiro/falso, arredondamento por excesso/defeito)."
   ]
  },
  {
   "cell_type": "markdown",
   "metadata": {},
   "source": [
    "1. Obter o dobro de um número. A definição desta função é muito semelhante ao exemplo dado inicialmente."
   ]
  },
  {
   "cell_type": "code",
   "execution_count": null,
   "metadata": {},
   "outputs": [],
   "source": []
  },
  {
   "cell_type": "markdown",
   "metadata": {},
   "source": [
    "2. Obter a diferença entre dois números (dados em dois parâmetros)."
   ]
  },
  {
   "cell_type": "code",
   "execution_count": null,
   "metadata": {},
   "outputs": [],
   "source": []
  },
  {
   "cell_type": "markdown",
   "metadata": {},
   "source": [
    "3. Obter a percentagem de um valor relativamente a um total.\\\n",
    "Exemplo: 2 num total de 8 corresponde a 25%.\\\n",
    "O valor de percentagem deverá ser devolvido num número real (float) no intervalo [0.0, 1.0].\n",
    "\n",
    "        def percentage(n, total):\n",
    "            ..."
   ]
  },
  {
   "cell_type": "markdown",
   "metadata": {},
   "source": [
    "4. Obter a média entre dois números inteiros.\\\n",
    "Note que a média entre dois inteiros não é necessariamente um inteiro, pelo que o tipo de retorno deverá ser decimal (**float**)."
   ]
  },
  {
   "cell_type": "markdown",
   "metadata": {},
   "source": [
    "5. Arredondar um número decimal para inteiro.\\\n",
    "Nesta função é necessário aplicar a truncagem (converter um decimal para inteiro, descartando a parte decimal). Exemplos:\n",
    "\n",
    "    rounded(4.3) => 4\n",
    "    rounded(4.7) => 5"
   ]
  },
  {
   "cell_type": "markdown",
   "metadata": {},
   "source": [
    "6. Saber se um número inteiro é negativo.\\\n",
    "O valor devolvido pela função deverá indicar se o número passado como argumento é ou não negativo, mediante um valor booleano (**bool**, que assume apenas os valores **True** ou **False**). Exemplos:\n",
    "\n",
    "        is_negative(-2) => True\n",
    "        is_negative(3) => False\n",
    "\n",
    "        def is_negative(n):\n",
    "            ...\n",
    "\n",
    "7. Utilizando o operador aritmético de divisão inteira (%)\n",
    "\n",
    "    (a) Saber se um número inteiro é impar.\n",
    "    \n",
    "    (b) Saber se um número inteiro é par.  \n",
    "    \n",
    "    (c) Saber se um número inteiro é múltiplo de outro.\n",
    "\n",
    "8. Saber se um número inteiro corresponde a um dígito (i.e. está entre 0 e 9).\\\n",
    "Nesta função é necessário combinar duas condições lógicas (conjunção). \n",
    "\n",
    "9. Saber se um número está incluído num dado intervalo (fechado). Exemplos:\n",
    "\n",
    "```\n",
    "is_included(5, 4, 9) => True (5 está incluído em [4, 9])\n",
    "is_included(5, 6, 9) => False (5 não está incluído em [6, 9])\n",
    "    \n",
    "```\n",
    "\n",
    "10. Saber se um número está excluído de um dado intervalo (fechado). Experimente uma solução baseada numa disjunção lógica e uma solução alternativa baseada numa negação da condição utilizada na alínea anterior. Exemplos:\n",
    "\n",
    "```\n",
    "is_excluded(4, 4, 9) => False (4 não está excluído de [4, 9])\n",
    "is_excluded(4, 5, 9) => True (4 está excluído de [5, 9])\n",
    "```\n",
    "\n",
    "11. Calcular a operação lógica disjunção exclusiva (XOR) entre dois valores booleanos. Exemplos:\n",
    "\n",
    "```\n",
    "xor(True, False) => True\n",
    "xor(False, True) => True\n",
    "xor(True, True) => False\n",
    "xor(False, False) => False\n",
    "```\n",
    "\n",
    "\n",
    "12. Saber se um carácter corresponde a uma vogal minúscula. Exemplos:\n",
    "```\n",
    "is_vowel('a') => True\n",
    "is_vowel('z') => False\n",
    "```"
   ]
  },
  {
   "cell_type": "code",
   "execution_count": null,
   "metadata": {},
   "outputs": [],
   "source": []
  },
  {
   "cell_type": "code",
   "execution_count": null,
   "metadata": {},
   "outputs": [],
   "source": []
  }
 ],
 "metadata": {
  "kernelspec": {
   "display_name": "Python 3",
   "language": "python",
   "name": "python3"
  },
  "language_info": {
   "codemirror_mode": {
    "name": "ipython",
    "version": 3
   },
   "file_extension": ".py",
   "mimetype": "text/x-python",
   "name": "python",
   "nbconvert_exporter": "python",
   "pygments_lexer": "ipython3",
   "version": "3.6.9"
  }
 },
 "nbformat": 4,
 "nbformat_minor": 4
}
